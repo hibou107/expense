{
 "cells": [
  {
   "cell_type": "code",
   "execution_count": 25,
   "metadata": {},
   "outputs": [
    {
     "data": {
      "application/vnd.jupyter.widget-view+json": {
       "model_id": "2260e444f1dd47179a05f5fc31863bb5",
       "version_major": 2,
       "version_minor": 0
      },
      "text/plain": [
       "interactive(children=(IntSlider(value=10, description='x', max=30, min=-10), Output()), _dom_classes=('widget-…"
      ]
     },
     "metadata": {},
     "output_type": "display_data"
    }
   ],
   "source": [
    "from __future__ import print_function\n",
    "from ipywidgets import interact, interactive, fixed, interact_manual\n",
    "import ipywidgets as widgets\n",
    "import math\n",
    "import itertools\n",
    "\n",
    "\n",
    "def f(x):\n",
    "    return x * 2\n",
    "interact(f, x=10);"
   ]
  },
  {
   "cell_type": "code",
   "execution_count": 90,
   "metadata": {
    "scrolled": true
   },
   "outputs": [
    {
     "data": {
      "application/vnd.jupyter.widget-view+json": {
       "model_id": "d2ae360a640d4b4cb89a90f89c380048",
       "version_major": 2,
       "version_minor": 0
      },
      "text/plain": [
       "interactive(children=(IntSlider(value=1000, description='salary', max=5000, step=500), Output()), _dom_classes…"
      ]
     },
     "metadata": {},
     "output_type": "display_data"
    },
    {
     "data": {
      "text/plain": [
       "<function __main__.f(salary)>"
      ]
     },
     "execution_count": 90,
     "metadata": {},
     "output_type": "execute_result"
    }
   ],
   "source": [
    "def impot_revenu(net_imposable, part):\n",
    "    by_part = net_imposable / part\n",
    "    tranches = [(10064, 0.14), (27794, 0.3), (74517, 0.41), (157806, 0.45)]\n",
    "    zipped = itertools.zip_longest(tranches, tranches[1:])\n",
    "    result = 0\n",
    "    for ((first, rate), s) in zipped:\n",
    "        if by_part <= first:\n",
    "            continue\n",
    "        else:\n",
    "            if s is not None:\n",
    "                second = s[0]\n",
    "                m = min(second, by_part)\n",
    "            else:\n",
    "                m = by_part\n",
    "            diff = m - first - 1\n",
    "            t = diff * rate\n",
    "            result += t\n",
    "    return result * part\n",
    "\n",
    "def corporate_tax(benefice):\n",
    "    tranches = [(0, 0.15), (38120, 0.28), (500000, 0.3333)]\n",
    "    zipped = itertools.zip_longest(tranches, tranches[1:])\n",
    "    result = 0\n",
    "    for ((first, rate), s) in zipped:\n",
    "        if benefice <= first:\n",
    "            continue\n",
    "        else:\n",
    "            if s is not None:\n",
    "                second = s[0]\n",
    "                m = min(second, benefice)\n",
    "            else:\n",
    "                m = benefice\n",
    "            diff = m - first\n",
    "            t = diff * rate\n",
    "            result += t\n",
    "    return result\n",
    "\n",
    "def total_salary_cost(net_salary):\n",
    "    brut_salary = net_salary / 0.78\n",
    "    employer_charge = brut_salary * 0.45\n",
    "    total_cost = brut_salary + employer_charge\n",
    "    return total_cost\n",
    "\n",
    "    \n",
    "data = {\n",
    "    \"tjm\": 600,\n",
    "    \"working_days\": 220,\n",
    "    \"monthly_rent\": 1000,\n",
    "    \"variable_cost\": 1000,\n",
    "    \"salary_net_monthly\": 1500,\n",
    "    \"wife_salary_year\": 24180,\n",
    "    \"part\": 2.5\n",
    "}\n",
    "\n",
    "def compute(data):\n",
    "    turn_over = data[\"working_days\"] * data[\"tjm\"]\n",
    "    salary_cost = total_salary_cost(data[\"salary_net_monthly\"]) * 12\n",
    "    benefit = turn_over - data[\"variable_cost\"] * 12 - salary_cost - data[\"monthly_rent\"] * 12\n",
    "    ct =  corporate_tax(benefit)\n",
    "    dividend = benefit - ct\n",
    "    flat_tax = dividend * 0.3\n",
    "    \n",
    "    ## revenu\n",
    "    \n",
    "    total_imposable = data[\"wife_salary_year\"] * 0.9 + data[\"salary_net_monthly\"] * 12 * 0.9 \\\n",
    "        + data[\"monthly_rent\"] * 12 * 0.7\n",
    "    ir = impot_revenu(total_imposable,  data[\"part\"])\n",
    "    net = dividend - flat_tax + data[\"salary_net_monthly\"] * 12 + data[\"monthly_rent\"] * 12  \\\n",
    "        + data[\"wife_salary_year\"] - ir + data[\"variable_cost\"] * 12 * 0.9\n",
    "    return net, benefit, ir\n",
    "    \n",
    "    \n",
    "def f(salary):\n",
    "    cloned = data.copy()\n",
    "    cloned[\"salary_net_monthly\"] = salary\n",
    "    return compute(cloned)\n",
    "\n",
    "#print(compute(data))\n",
    "\n",
    "interact(f, salary=widgets.IntSlider(min=0, max=5000, step=500, value=1000))\n"
   ]
  },
  {
   "cell_type": "code",
   "execution_count": 89,
   "metadata": {},
   "outputs": [
    {
     "data": {
      "application/vnd.jupyter.widget-view+json": {
       "model_id": "441dade5536a4bedb79979b46a38085a",
       "version_major": 2,
       "version_minor": 0
      },
      "text/plain": [
       "HBox(children=(VBox(children=(IntSlider(value=0, description='a'), IntSlider(value=0, description='b'), IntSli…"
      ]
     },
     "metadata": {},
     "output_type": "display_data"
    }
   ],
   "source": [
    "a = widgets.IntSlider(description='a')\n",
    "b = widgets.IntSlider(description='b')\n",
    "c = widgets.IntSlider(description='c')\n",
    "def f(a, b, c):\n",
    "    print('{}*{}*{}={}'.format(a, b, c, a*b*c))\n",
    "\n",
    "out = widgets.interactive_output(f, {'a': a, 'b': b, 'c': c})\n",
    "\n",
    "widgets.HBox([widgets.VBox([a, b, c]), out])"
   ]
  },
  {
   "cell_type": "code",
   "execution_count": null,
   "metadata": {},
   "outputs": [],
   "source": []
  },
  {
   "cell_type": "code",
   "execution_count": null,
   "metadata": {},
   "outputs": [],
   "source": []
  }
 ],
 "metadata": {
  "kernelspec": {
   "display_name": "Python 3",
   "language": "python",
   "name": "python3"
  },
  "language_info": {
   "codemirror_mode": {
    "name": "ipython",
    "version": 3
   },
   "file_extension": ".py",
   "mimetype": "text/x-python",
   "name": "python",
   "nbconvert_exporter": "python",
   "pygments_lexer": "ipython3",
   "version": "3.8.3"
  }
 },
 "nbformat": 4,
 "nbformat_minor": 4
}
