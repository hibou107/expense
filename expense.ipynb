{
 "cells": [
  {
   "cell_type": "code",
   "execution_count": 7,
   "metadata": {},
   "outputs": [],
   "source": [
    "def revenu(net_imposable, part):\n",
    "    by_part = net_imposable / part\n",
    "    tranches = [(0, 9807, 0), (9807, 27086, 0.14), (17806, 72617, 0.3),\n",
    "                (72617, 158783, 0.41), (153783, 100000000, 0.45)]\n",
    "    result = 0.0\n",
    "    for (min, max, taux) in tranches:\n",
    "        if min < by_part < max:\n",
    "            result = result + (by_part - min) * taux\n",
    "            return math.floor(result * part)\n",
    "        else:\n",
    "            result = result + (max - min) * taux\n",
    "    return math.floor(result * part)\n",
    "\n"
   ]
  },
  {
   "cell_type": "code",
   "execution_count": 8,
   "metadata": {},
   "outputs": [],
   "source": [
    "def mensualite(K, t, y):\n",
    "    temp1 = K * t / 12\n",
    "    temp2 = math.pow(1 + t / 12, -(12 * y))\n",
    "    return temp1 / (1 - temp2)"
   ]
  },
  {
   "cell_type": "code",
   "execution_count": 9,
   "metadata": {},
   "outputs": [],
   "source": [
    "scenario1 = {\n",
    "    \"montant\": 75000,\n",
    "    \"duree\": 71,\n",
    "    \"mensualite\": 1182.22,\n",
    "    \"rendement_scpi\": 0.06,\n",
    "    \"rendement_epargne\": 0.06,\n",
    "    \"jouissance\": 5\n",
    "}"
   ]
  },
  {
   "cell_type": "code",
   "execution_count": 10,
   "metadata": {},
   "outputs": [],
   "source": [
    "import math\n",
    "def compare(scenario):\n",
    "    rendement_mensuel = math.pow((1 + scenario[\"rendement_scpi\"]), (1/12)) - 1\n",
    "    acc = 0.0\n",
    "    for i in range(72):\n",
    "        acc = acc * rendement_mensuel + scenario[\"mensualite\"]\n",
    "        \n",
    "    print(rendement_mensuel)\n",
    "    \n",
    "    "
   ]
  },
  {
   "cell_type": "code",
   "execution_count": 11,
   "metadata": {},
   "outputs": [
    {
     "name": "stdout",
     "output_type": "stream",
     "text": [
      "0.004867550565343048\n"
     ]
    }
   ],
   "source": [
    "compare(scenario1)"
   ]
  },
  {
   "cell_type": "code",
   "execution_count": 12,
   "metadata": {},
   "outputs": [
    {
     "ename": "NameError",
     "evalue": "name 'interact' is not defined",
     "output_type": "error",
     "traceback": [
      "\u001B[1;31m---------------------------------------------------------------------------\u001B[0m",
      "\u001B[1;31mNameError\u001B[0m                                 Traceback (most recent call last)",
      "\u001B[1;32m<ipython-input-12-d95dcc8729ef>\u001B[0m in \u001B[0;36m<module>\u001B[1;34m\u001B[0m\n\u001B[0;32m      8\u001B[0m     \u001B[0mplt\u001B[0m\u001B[1;33m.\u001B[0m\u001B[0mplot\u001B[0m\u001B[1;33m(\u001B[0m\u001B[0mt\u001B[0m\u001B[1;33m,\u001B[0m \u001B[0ms\u001B[0m\u001B[1;33m)\u001B[0m\u001B[1;33m\u001B[0m\u001B[1;33m\u001B[0m\u001B[0m\n\u001B[0;32m      9\u001B[0m \u001B[1;33m\u001B[0m\u001B[0m\n\u001B[1;32m---> 10\u001B[1;33m \u001B[0minteract\u001B[0m\u001B[1;33m(\u001B[0m\u001B[0mrevenu\u001B[0m\u001B[1;33m,\u001B[0m \u001B[0mnet_imposable\u001B[0m\u001B[1;33m=\u001B[0m\u001B[1;33m(\u001B[0m\u001B[1;36m10000\u001B[0m\u001B[1;33m,\u001B[0m \u001B[1;36m70000\u001B[0m\u001B[1;33m,\u001B[0m \u001B[1;36m1000\u001B[0m\u001B[1;33m)\u001B[0m\u001B[1;33m,\u001B[0m \u001B[0mpart\u001B[0m\u001B[1;33m=\u001B[0m\u001B[1;33m(\u001B[0m\u001B[1;36m1\u001B[0m\u001B[1;33m,\u001B[0m \u001B[1;36m5\u001B[0m\u001B[1;33m,\u001B[0m \u001B[1;36m0.5\u001B[0m\u001B[1;33m)\u001B[0m\u001B[1;33m)\u001B[0m\u001B[1;33m\u001B[0m\u001B[1;33m\u001B[0m\u001B[0m\n\u001B[0m",
      "\u001B[1;31mNameError\u001B[0m: name 'interact' is not defined"
     ]
    }
   ],
   "source": [
    "from ipywidgets import widgets\n",
    "import matplotlib.pyplot as plt  \n",
    "import numpy as np  \n",
    "\n",
    "def plot(part):\n",
    "    t = np.arange(0.0, 100000, 1000)  \n",
    "    s = revenu()\n",
    "    plt.plot(t, s)  \n",
    "    \n",
    "interact(revenu, net_imposable=(10000, 70000, 1000), part=(1, 5, 0.5))\n"
   ]
  },
  {
   "cell_type": "code",
   "execution_count": null,
   "metadata": {},
   "outputs": [],
   "source": [
    "%matplotlib\n",
    "from ipywidgets import *\n",
    "x_widget = FloatSlider(min=0.0, max=10.0, step=0.05)\n",
    "y_widget = FloatSlider(min=0.5, max=10.0, step=0.05, value=5.0)\n",
    "\n",
    "def update_x_range(*args):\n",
    "    x_widget.max = 2.0 * y_widget.value\n",
    "\n",
    "y_widget.observe(update_x_range, 'value')\n",
    "\n",
    "def f(net_imposable, part):\n",
    "    return [revenu(x, part) for x in net_imposable]\n",
    "\n",
    "def printer(x, y):\n",
    "    print(x, y)\n",
    "    print(type(x))\n",
    "    t = np.arange(0, 100000, 100)\n",
    "    plt.plot(t, t)\n",
    "    plt.ion()\n",
    "interact(printer,x=x_widget, y=y_widget);\n"
   ]
  },
  {
   "cell_type": "code",
   "execution_count": null,
   "metadata": {},
   "outputs": [],
   "source": [
    "a = widgets.IntSlider(description='a')\n",
    "b = widgets.IntSlider(description='b')\n",
    "c = widgets.IntSlider(description='c')\n",
    "def f(a, b, c):\n",
    "    print('{}*{}*{}={}'.format(a, b, c, a*b*c))\n",
    "\n",
    "out = widgets.interactive_output(f, {'a': a, 'b': b, 'c': c})\n",
    "\n",
    "widgets.HBox([widgets.VBox([a, b, c]), out])"
   ]
  },
  {
   "cell_type": "code",
   "execution_count": null,
   "metadata": {},
   "outputs": [],
   "source": []
  }
 ],
 "metadata": {
  "kernelspec": {
   "display_name": "Python 3",
   "language": "python",
   "name": "python3"
  },
  "language_info": {
   "codemirror_mode": {
    "name": "ipython",
    "version": 3
   },
   "file_extension": ".py",
   "mimetype": "text/x-python",
   "name": "python",
   "nbconvert_exporter": "python",
   "pygments_lexer": "ipython3",
   "version": "3.8.3"
  }
 },
 "nbformat": 4,
 "nbformat_minor": 2
}