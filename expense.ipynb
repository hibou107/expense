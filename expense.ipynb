{
 "cells": [
  {
   "cell_type": "code",
   "execution_count": 14,
   "metadata": {},
   "outputs": [],
   "source": [
    "def revenu(net_imposable, part):\n",
    "    by_part = net_imposable / part\n",
    "    tranches = [(0, 9807, 0), (9807, 27086, 0.14), (17806, 72617, 0.3),\n",
    "                (72617, 158783, 0.41), (153783, 100000000, 0.45)]\n",
    "    result = 0.0\n",
    "    for (min, max, taux) in tranches:\n",
    "        if min < by_part < max:\n",
    "            result = result + (by_part - min) * taux\n",
    "            return math.floor(result * part)\n",
    "        else:\n",
    "            result = result + (max - min) * taux\n",
    "    return math.floor(result * part)\n",
    "\n"
   ]
  },
  {
   "cell_type": "code",
   "execution_count": 15,
   "metadata": {},
   "outputs": [],
   "source": [
    "def mensualite(K, t, y):\n",
    "    temp1 = K * t / 12\n",
    "    temp2 = math.pow(1 + t / 12, -(12 * y))\n",
    "    return temp1 / (1 - temp2)"
   ]
  },
  {
   "cell_type": "code",
   "execution_count": 16,
   "metadata": {},
   "outputs": [],
   "source": [
    "scenario1 = {\n",
    "    \"montant\": 75000,\n",
    "    \"duree\": 71,\n",
    "    \"mensualite\": 1182.22,\n",
    "    \"rendement_scpi\": 0.06,\n",
    "    \"rendement_epargne\": 0.06,\n",
    "    \"jouissance\": 5\n",
    "}"
   ]
  },
  {
   "cell_type": "code",
   "execution_count": 17,
   "metadata": {},
   "outputs": [],
   "source": [
    "import math\n",
    "def compare(scenario):\n",
    "    rendement_mensuel = math.pow((1 + scenario[\"rendement_scpi\"]), (1/12)) - 1\n",
    "    acc = 0.0\n",
    "    for i in range(72):\n",
    "        acc = acc * rendement_mensuel + scenario[\"mensualite\"]\n",
    "        \n",
    "    print(rendement_mensuel)\n",
    "    \n",
    "    "
   ]
  },
  {
   "cell_type": "code",
   "execution_count": 18,
   "metadata": {},
   "outputs": [
    {
     "name": "stdout",
     "output_type": "stream",
     "text": [
      "0.004867550565343048\n"
     ]
    }
   ],
   "source": [
    "compare(scenario1)"
   ]
  },
  {
   "cell_type": "code",
   "execution_count": 37,
   "metadata": {},
   "outputs": [
    {
     "data": {
      "application/vnd.jupyter.widget-view+json": {
       "model_id": "7b693a697d00437b8df6348f88a2f586",
       "version_major": 2,
       "version_minor": 0
      },
      "text/plain": [
       "interactive(children=(IntSlider(value=40000, description='net_imposable', max=70000, min=10000, step=1000), Fl…"
      ]
     },
     "metadata": {},
     "output_type": "display_data"
    },
    {
     "data": {
      "text/plain": [
       "<function __main__.revenu(net_imposable, part)>"
      ]
     },
     "execution_count": 37,
     "metadata": {},
     "output_type": "execute_result"
    }
   ],
   "source": [
    "from ipywidgets import widgets\n",
    "import matplotlib.pyplot as plt  \n",
    "import numpy as np  \n",
    "\n",
    "def plot(part):\n",
    "    t = np.arange(0.0, 100000, 1000)  \n",
    "    s = revenu()\n",
    "    plt.plot(t, s)  \n",
    "    \n",
    "interact(revenu, net_imposable=(10000, 70000, 1000), part=(1, 5, 0.5))\n"
   ]
  },
  {
   "cell_type": "code",
   "execution_count": 52,
   "metadata": {},
   "outputs": [
    {
     "name": "stdout",
     "output_type": "stream",
     "text": [
      "Using matplotlib backend: nbAgg\n"
     ]
    },
    {
     "data": {
      "application/vnd.jupyter.widget-view+json": {
       "model_id": "1b72e4eb29dc4b7183253e8a6eb0e92d",
       "version_major": 2,
       "version_minor": 0
      },
      "text/plain": [
       "interactive(children=(FloatSlider(value=0.0, description='x', max=10.0, step=0.05), FloatSlider(value=5.0, des…"
      ]
     },
     "metadata": {},
     "output_type": "display_data"
    }
   ],
   "source": [
    "%matplotlib\n",
    "from ipywidgets import *\n",
    "x_widget = FloatSlider(min=0.0, max=10.0, step=0.05)\n",
    "y_widget = FloatSlider(min=0.5, max=10.0, step=0.05, value=5.0)\n",
    "\n",
    "def update_x_range(*args):\n",
    "    x_widget.max = 2.0 * y_widget.value\n",
    "\n",
    "y_widget.observe(update_x_range, 'value')\n",
    "\n",
    "def f(net_imposable, part):\n",
    "    return [revenu(x, part) for x in net_imposable]\n",
    "\n",
    "def printer(x, y):\n",
    "    print(x, y)\n",
    "    print(type(x))\n",
    "    t = np.arange(0, 100000, 100)\n",
    "    plt.plot(t, t)\n",
    "    plt.ion()\n",
    "interact(printer,x=x_widget, y=y_widget);\n"
   ]
  },
  {
   "cell_type": "code",
   "execution_count": 46,
   "metadata": {},
   "outputs": [
    {
     "data": {
      "application/vnd.jupyter.widget-view+json": {
       "model_id": "99ee9c4deeb84109b8e53d01e4838a22",
       "version_major": 2,
       "version_minor": 0
      },
      "text/plain": [
       "HBox(children=(VBox(children=(IntSlider(value=0, description='a'), IntSlider(value=0, description='b'), IntSli…"
      ]
     },
     "metadata": {},
     "output_type": "display_data"
    }
   ],
   "source": [
    "a = widgets.IntSlider(description='a')\n",
    "b = widgets.IntSlider(description='b')\n",
    "c = widgets.IntSlider(description='c')\n",
    "def f(a, b, c):\n",
    "    print('{}*{}*{}={}'.format(a, b, c, a*b*c))\n",
    "\n",
    "out = widgets.interactive_output(f, {'a': a, 'b': b, 'c': c})\n",
    "\n",
    "widgets.HBox([widgets.VBox([a, b, c]), out])"
   ]
  },
  {
   "cell_type": "code",
   "execution_count": null,
   "metadata": {},
   "outputs": [],
   "source": []
  }
 ],
 "metadata": {
  "kernelspec": {
   "display_name": "Python 3",
   "language": "python",
   "name": "python3"
  },
  "language_info": {
   "codemirror_mode": {
    "name": "ipython",
    "version": 3
   },
   "file_extension": ".py",
   "mimetype": "text/x-python",
   "name": "python",
   "nbconvert_exporter": "python",
   "pygments_lexer": "ipython3",
   "version": "3.5.3"
  }
 },
 "nbformat": 4,
 "nbformat_minor": 2
}
